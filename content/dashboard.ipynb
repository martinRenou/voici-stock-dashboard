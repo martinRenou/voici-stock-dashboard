{
 "cells": [
  {
   "cell_type": "code",
   "execution_count": 1,
   "id": "b99d8299-e2fb-41d7-a086-5a8af4cf826f",
   "metadata": {
    "tags": []
   },
   "outputs": [],
   "source": [
    "from widgets import dashboard_factory\n",
    "import ipyvuetify as v\n",
    "import os,json"
   ]
  },
  {
   "cell_type": "code",
   "execution_count": 2,
   "id": "3c79df17-28c9-42ce-97c0-34b022832df6",
   "metadata": {
    "tags": []
   },
   "outputs": [],
   "source": [
    "with open('data/all_tickers.json', 'r') as f:\n",
    "    ticker_options = json.load(f)"
   ]
  },
  {
   "cell_type": "code",
   "execution_count": 3,
   "id": "d3e1aa55-6bc4-4d56-a666-004868508a36",
   "metadata": {
    "tags": []
   },
   "outputs": [],
   "source": [
    "w = v.Html(tag=\"div\", class_=\"d-flex flex-column\")"
   ]
  },
  {
   "cell_type": "code",
   "execution_count": 4,
   "id": "ebaae013-207f-4499-b602-1926f595cac4",
   "metadata": {
    "tags": []
   },
   "outputs": [],
   "source": [
    "ticker_name = \"NVDA\"\n",
    "d = dashboard_factory(ticker_name)"
   ]
  },
  {
   "cell_type": "code",
   "execution_count": 5,
   "id": "539c7f87-199f-4979-8df5-5e43e8ffae9d",
   "metadata": {
    "tags": []
   },
   "outputs": [],
   "source": [
    "select=v.Autocomplete(label=\"Choose ticker\", items=ticker_options, value='NVDA')\n",
    "def on_change(widget, event, data):\n",
    "    new_d = dashboard_factory(data)\n",
    "    w.children = [new_d, select]\n",
    "\n",
    "select.on_event('change', on_change )\n"
   ]
  },
  {
   "cell_type": "code",
   "execution_count": 6,
   "id": "88e08cff-3306-4651-8c90-232105430a55",
   "metadata": {
    "tags": []
   },
   "outputs": [],
   "source": [
    "w.children = [d, select]"
   ]
  },
  {
   "cell_type": "code",
   "execution_count": 7,
   "id": "dc74dce2-ff46-4cfb-be74-64f818c9c5a1",
   "metadata": {
    "tags": []
   },
   "outputs": [
    {
     "data": {
      "application/vnd.jupyter.widget-view+json": {
       "model_id": "71f0ad3546cc42f38a955d6cbd27cd04",
       "version_major": 2,
       "version_minor": 0
      },
      "text/plain": [
       "Html(children=[VBox(children=(FlexLayout(children={'news': Html(children=[Card(children=[CardTitle(children=['…"
      ]
     },
     "execution_count": 7,
     "metadata": {},
     "output_type": "execute_result"
    }
   ],
   "source": [
    "w"
   ]
  },
  {
   "cell_type": "code",
   "execution_count": null,
   "id": "e840746e-7d8e-492a-a28e-280607373ab1",
   "metadata": {},
   "outputs": [],
   "source": []
  }
 ],
 "metadata": {
  "kernelspec": {
   "display_name": "Python 3.10 (XPython)",
   "language": "python",
   "name": "xpython"
  },
  "language_info": {
   "file_extension": ".py",
   "mimetype": "text/x-python",
   "name": "python",
   "version": "3.10.10"
  },
  "widgets": {}
 },
 "nbformat": 4,
 "nbformat_minor": 5
}
