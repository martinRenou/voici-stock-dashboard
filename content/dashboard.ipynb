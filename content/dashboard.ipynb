{
 "cells": [
  {
   "cell_type": "code",
   "execution_count": null,
   "id": "b99d8299-e2fb-41d7-a086-5a8af4cf826f",
   "metadata": {
    "tags": []
   },
   "outputs": [],
   "source": [
    "import os\n",
    "import json\n",
    "import ipyvuetify as v\n",
    "import ipywidgets as ipw\n",
    "from ipyflex import FlexLayout\n",
    "from ticker import TickerData\n",
    "from widgets import (\n",
    "    financial_info_factory,\n",
    "    new_factory,\n",
    "    price_chart_factory,\n",
    "    price_history_factory,\n",
    "    text_widget,\n",
    "    balance_sheet_factory,\n",
    "    analysis_factory\n",
    ")\n"
   ]
  },
  {
   "cell_type": "code",
   "execution_count": null,
   "id": "ebaae013-207f-4499-b602-1926f595cac4",
   "metadata": {
    "tags": []
   },
   "outputs": [],
   "source": [
    "ticker_name = \"NVDA\"\n",
    "ticker = TickerData(ticker_name)"
   ]
  },
  {
   "cell_type": "code",
   "execution_count": null,
   "id": "d2731aae-553a-4243-8e9b-1021329e4377",
   "metadata": {
    "tags": []
   },
   "outputs": [],
   "source": [
    "editable = True\n",
    "height = \"calc(100vh - 60px)\"\n",
    "w = FlexLayout(\n",
    "    style={\"height\": height},\n",
    "    header={\"title\": \"STOCK DASHBOAD\", \"style\": {\"backgroundColor\": \"rgb(53 53 53)\"}, \"buttons\":[\"export\",\"import\"]},\n",
    "    template=\"ticker2.json\",\n",
    "    editable=editable,\n",
    ")\n",
    "style = ipw.HTML(\"\"\"<style>.js-plotly-plot {height: 100%;}</style> \"\"\")"
   ]
  },
  {
   "cell_type": "code",
   "execution_count": null,
   "id": "a9c6f911-d895-4a36-8982-b8ae76b994ca",
   "metadata": {
    "tags": []
   },
   "outputs": [],
   "source": [
    "ipw.VBox([w, style])"
   ]
  },
  {
   "cell_type": "code",
   "execution_count": null,
   "id": "69f9c03e-f04f-4307-9ee1-6c1519f1d0e5",
   "metadata": {
    "tags": []
   },
   "outputs": [],
   "source": [
    "news = new_factory(ticker.news)\n",
    "info = financial_info_factory(ticker.financial_info)\n",
    "price = price_chart_factory(ticker.price_sixm, ticker_name)\n",
    "history = price_history_factory(ticker.price_threey, ticker_name)\n",
    "summary = text_widget(\"Business Summary \", ticker.info[\"longBusinessSummary\"])\n",
    "balance_sheet = balance_sheet_factory(list(ticker.balance_sheet.values()))\n",
    "# analysis = analysis_factory(ticker.analysis)\n",
    "widgets = {\n",
    "    \"news\": news,\n",
    "    \"info\": info,\n",
    "    \"price\": price,\n",
    "    \"history\": history,\n",
    "    \"summary\": summary,\n",
    "    \"balance_sheet\": balance_sheet,\n",
    "    # \"analysis\": analysis\n",
    "}"
   ]
  },
  {
   "cell_type": "code",
   "execution_count": null,
   "id": "599965a0-1ca7-4eb2-9a9d-30c505ea6be4",
   "metadata": {},
   "outputs": [],
   "source": [
    "for key, value in widgets.items():\n",
    "    w.add(key, value)\n"
   ]
  },
  {
   "cell_type": "code",
   "execution_count": null,
   "id": "a9b6830e-6098-4819-915f-9b2154adf233",
   "metadata": {},
   "outputs": [],
   "source": []
  }
 ],
 "metadata": {
  "kernelspec": {
   "display_name": "Python 3.10 (XPython)",
   "language": "python",
   "name": "xpython"
  },
  "language_info": {
   "file_extension": ".py",
   "mimetype": "text/x-python",
   "name": "python",
   "version": "3.10.10"
  },
  "widgets": {}
 },
 "nbformat": 4,
 "nbformat_minor": 5
}
